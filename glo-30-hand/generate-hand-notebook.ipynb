{
 "cells": [
  {
   "cell_type": "markdown",
   "metadata": {
    "collapsed": false,
    "jupyter": {
     "outputs_hidden": false
    }
   },
   "source": [
    "# Generate your own GLO-30 HAND tile\n",
    "\n",
    "This notebook will recreate a GLO-30 HAND tile, or let you generate a new one with using a different accumulation value.\n",
    "\n",
    "## 0. Install dependencies\n",
    "\n",
    "To run this notebook, you'll need the [HydroSAR](https://pypi.org/project/hydrosar/) Python package, the [ASF Tools](https://hyp3-docs.asf.alaska.edu/tools/asf_tools/) Python package, [numpy](https://numpy.org/), [rasterio](https://rasterio.readthedocs.io/), and [shapely](https://shapely.readthedocs.io/en/stable/manual.html). You can install them into a conda environment with:"
   ]
  },
  {
   "cell_type": "code",
   "execution_count": null,
   "metadata": {
    "collapsed": false,
    "jupyter": {
     "outputs_hidden": false
    }
   },
   "outputs": [],
   "source": [
    "%conda install -c conda-forge asf_tools>=0.6 numpy rasterio shapely"
   ]
  },
  {
   "cell_type": "code",
   "execution_count": null,
   "metadata": {
    "collapsed": false,
    "jupyter": {
     "outputs_hidden": false
    }
   },
   "outputs": [],
   "source": [
    "!python -m pip install hydrosar"
   ]
  },
  {
   "cell_type": "markdown",
   "metadata": {
    "collapsed": false,
    "jupyter": {
     "outputs_hidden": false
    }
   },
   "source": [
    "## 1. Generate HAND\n",
    "First, select a DEM tile and then provide the [virtual path](https://gdal.org/user/virtual_file_systems.html) to it"
   ]
  },
  {
   "cell_type": "code",
   "execution_count": null,
   "metadata": {
    "collapsed": false,
    "jupyter": {
     "outputs_hidden": false
    }
   },
   "outputs": [],
   "source": [
    "dem_tile = '/vsicurl/https://copernicus-dem-30m.s3.amazonaws.com/Copernicus_DSM_COG_10_N41_00_W088_00_DEM/Copernicus_DSM_COG_10_N41_00_W088_00_DEM.tif'"
   ]
  },
  {
   "cell_type": "markdown",
   "metadata": {
    "collapsed": false,
    "jupyter": {
     "outputs_hidden": false
    }
   },
   "source": [
    "Extract some metadata from the DEM tile"
   ]
  },
  {
   "cell_type": "code",
   "execution_count": null,
   "metadata": {
    "collapsed": false,
    "jupyter": {
     "outputs_hidden": false
    }
   },
   "outputs": [],
   "source": [
    "import rasterio\n",
    "\n",
    "with rasterio.open(dem_tile) as dem:\n",
    "        dem_bounds = dem.bounds\n",
    "        dem_meta = dem.meta"
   ]
  },
  {
   "cell_type": "markdown",
   "metadata": {
    "collapsed": false,
    "jupyter": {
     "outputs_hidden": false
    }
   },
   "source": [
    "Buffer DEM by 0.5 degrees to avoid clipping hydrobasin boundaries"
   ]
  },
  {
   "cell_type": "code",
   "execution_count": null,
   "metadata": {
    "collapsed": false,
    "jupyter": {
     "outputs_hidden": false
    }
   },
   "outputs": [],
   "source": [
    "from shapely.geometry import GeometryCollection, box\n",
    "\n",
    "dem_geometry = box(*dem_bounds)\n",
    "dem_buffered = GeometryCollection([dem_geometry.buffer(0.5)])"
   ]
  },
  {
   "cell_type": "markdown",
   "metadata": {
    "collapsed": false,
    "jupyter": {
     "outputs_hidden": false
    }
   },
   "source": [
    "Build a temporary VRT of all DEM tiles that intersect our buffered geometry"
   ]
  },
  {
   "cell_type": "code",
   "execution_count": null,
   "metadata": {
    "collapsed": false,
    "jupyter": {
     "outputs_hidden": false
    }
   },
   "outputs": [],
   "source": [
    "from pathlib import Path\n",
    "\n",
    "from asf_tools.dem import prepare_dem_vrt\n",
    "\n",
    "buffered_dem_vrt = Path(dem_tile).name.replace('.tif', '_buffered.vrt')\n",
    "prepare_dem_vrt(buffered_dem_vrt, dem_buffered)"
   ]
  },
  {
   "cell_type": "markdown",
   "metadata": {
    "collapsed": false,
    "jupyter": {
     "outputs_hidden": false
    }
   },
   "source": [
    "Calculate an initial HAND over the entire buffered area using the specified accumulation threshold\n",
    "\n",
    "*Note: this will take a while.*"
   ]
  },
  {
   "cell_type": "code",
   "execution_count": null,
   "metadata": {
    "collapsed": false,
    "jupyter": {
     "outputs_hidden": false
    }
   },
   "outputs": [],
   "source": [
    "from hydrosar.hand.calculate import calculate_hand_for_basins\n",
    "\n",
    "accumulation_threshold = 100\n",
    "\n",
    "hand_raster_buffered = Path(dem_tile).name.replace('DEM.tif', f'HAND_ACC{accumulation_threshold}_buffered.tif')\n",
    "calculate_hand_for_basins(hand_raster_buffered, dem_buffered, buffered_dem_vrt, acc_thresh=accumulation_threshold)"
   ]
  },
  {
   "cell_type": "markdown",
   "metadata": {
    "collapsed": false,
    "jupyter": {
     "outputs_hidden": false
    }
   },
   "source": [
    "Crop out buffered HAND to the original DEM tile size"
   ]
  },
  {
   "cell_type": "code",
   "execution_count": null,
   "metadata": {
    "collapsed": false,
    "jupyter": {
     "outputs_hidden": false
    }
   },
   "outputs": [],
   "source": [
    "with rasterio.open(hand_raster_buffered) as sds:\n",
    "    window = rasterio.windows.from_bounds(*dem_bounds, sds.transform)\n",
    "    out_pixels = sds.read(\n",
    "        1, window=window, out_shape=(dem_meta['height'], dem_meta['width']),\n",
    "        resampling=rasterio.enums.Resampling.bilinear\n",
    "    )"
   ]
  },
  {
   "cell_type": "markdown",
   "metadata": {
    "collapsed": false,
    "jupyter": {
     "outputs_hidden": false
    }
   },
   "source": [
    "Mask the ocean pixels as identified in the WBM auxiliary DEM files"
   ]
  },
  {
   "cell_type": "code",
   "execution_count": null,
   "metadata": {
    "collapsed": false,
    "jupyter": {
     "outputs_hidden": false
    }
   },
   "outputs": [],
   "source": [
    "import numpy as np\n",
    "\n",
    "wmb_tile = dem_tile.replace('DEM/Copernicus', 'DEM/AUXFILES/Copernicus')\n",
    "wmb_tile = wmb_tile.replace('_DEM.tif', f'_WBM.tif')\n",
    "\n",
    "with rasterio.open(wmb_tile) as wbm:\n",
    "    wbm_pixels = wbm.read(1)\n",
    "\n",
    "out_pixels = np.ma.masked_where(wbm_pixels == 1, out_pixels)"
   ]
  },
  {
   "cell_type": "markdown",
   "metadata": {
    "collapsed": false,
    "jupyter": {
     "outputs_hidden": false
    }
   },
   "source": [
    "Write out the final HAND tile"
   ]
  },
  {
   "cell_type": "code",
   "execution_count": null,
   "metadata": {
    "collapsed": false,
    "jupyter": {
     "outputs_hidden": false
    }
   },
   "outputs": [],
   "source": [
    "from asf_tools.raster import write_cog\n",
    "\n",
    "hand_raster = Path(dem_tile).name.replace('DEM.tif', f'HAND_ACC{accumulation_threshold}.tif')\n",
    "write_cog(hand_raster, out_pixels, transform=dem.transform.to_gdal(), epsg_code=dem.crs.to_epsg())"
   ]
  },
  {
   "cell_type": "markdown",
   "metadata": {
    "collapsed": false,
    "jupyter": {
     "outputs_hidden": false
    }
   },
   "source": [
    "Check out the HAND you made!"
   ]
  },
  {
   "cell_type": "code",
   "execution_count": null,
   "metadata": {
    "collapsed": false,
    "jupyter": {
     "outputs_hidden": false
    }
   },
   "outputs": [],
   "source": [
    "import rasterio.plot\n",
    "\n",
    "with rasterio.open(hand_raster) as hand:\n",
    "    rasterio.plot.show(hand, title=hand_raster, vmin=0, vmax=10, cmap='binary')"
   ]
  },
  {
   "cell_type": "code",
   "execution_count": null,
   "metadata": {
    "collapsed": false,
    "jupyter": {
     "outputs_hidden": false
    }
   },
   "outputs": [],
   "source": []
  }
 ],
 "metadata": {
  "kernelspec": {
   "display_name": "Python 3 (ipykernel)",
   "language": "python",
   "name": "python3"
  },
  "language_info": {
   "codemirror_mode": {
    "name": "ipython",
    "version": 3
   },
   "file_extension": ".py",
   "mimetype": "text/x-python",
   "name": "python",
   "nbconvert_exporter": "python",
   "pygments_lexer": "ipython3",
   "version": "3.11.7"
  }
 },
 "nbformat": 4,
 "nbformat_minor": 4
}
